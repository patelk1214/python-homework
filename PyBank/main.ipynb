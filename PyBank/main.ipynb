{
 "cells": [
  {
   "cell_type": "code",
   "execution_count": 16,
   "metadata": {},
   "outputs": [
    {
     "name": "stdout",
     "output_type": "stream",
     "text": [
      "Total Number of Months: 86\n",
      "Total Profit/Losses over the period: $38382578.00\n",
      "Average Change: $-2315.12\n",
      "Greatest Increase in Profits: Feb-2012 $1926159.00 \n",
      "Greatest Decrease in Profits: Feb-2012 $-2196167.00 \n"
     ]
    }
   ],
   "source": [
    "import pandas as pd\n",
    "from pathlib import Path\n",
    "import csv\n",
    "import numpy as np\n",
    "\n",
    "\n",
    "csv_path = Path(\"./budget_data.csv\")\n",
    "monthly_PnL = {} ## empty dictionary to store montly PnL\n",
    "pnl_change = {} ## empty dictionary to store change in montly PnL\n",
    "count = 0 \n",
    "\n",
    "# Read budgest data cs file and process line by line and store mothly PnL in dictionary\n",
    "with open(csv_path) as fp:\n",
    "    csv_reader = csv.reader(fp)\n",
    "    next(csv_reader)\n",
    "    for line in csv_reader: \n",
    "        monthly_PnL[line[0]] = int(line[1])\n",
    "        if count == 0:\n",
    "            prev_month_pnl = int(line[1])\n",
    "        else:\n",
    "            pnl_change[line[0]] = int(line[1]) - prev_month_pnl\n",
    "            prev_month_pnl = int(line[1])\n",
    "        count +=1\n",
    "\n",
    "max_key = max(pnl_change, key=pnl_change.get) ## find the key having maximum pnl change\n",
    "min_key = min(pnl_change, key=pnl_change.get) ## find the key having minimum pnl change\n",
    "\n",
    "total_pnl = sum(list(monthly_PnL.values()))\n",
    "avg_pnl_change = np.mean(list(pnl_change.values())) ## Retrieve the alues from Pnl change ditionary inot list and find mean\n",
    "\n",
    "print(f'Total Number of Months: {len(monthly_PnL)}')\n",
    "print(f'Total Profit/Losses over the period: ${total_pnl:.2f}')\n",
    "print(f'Average Change: ${avg_pnl_change:.2f}')\n",
    "print(f'Greatest Increase in Profits: {max_key} ${pnl_change[max_key]:.2f} ')\n",
    "print(f'Greatest Decrease in Profits: {max_key} ${pnl_change[min_key]:.2f} ')\n"
   ]
  },
  {
   "cell_type": "code",
   "execution_count": null,
   "metadata": {},
   "outputs": [],
   "source": []
  }
 ],
 "metadata": {
  "kernelspec": {
   "display_name": "Python 3",
   "language": "python",
   "name": "python3"
  },
  "language_info": {
   "codemirror_mode": {
    "name": "ipython",
    "version": 3
   },
   "file_extension": ".py",
   "mimetype": "text/x-python",
   "name": "python",
   "nbconvert_exporter": "python",
   "pygments_lexer": "ipython3",
   "version": "3.6.12"
  }
 },
 "nbformat": 4,
 "nbformat_minor": 4
}
