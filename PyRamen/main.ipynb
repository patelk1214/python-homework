{
 "cells": [
  {
   "cell_type": "code",
   "execution_count": 3,
   "metadata": {},
   "outputs": [
    {
     "name": "stdout",
     "output_type": "stream",
     "text": [
      "edamame does not exist in Sales! NO MATCH!\n",
      "house salad does not exist in Sales! NO MATCH!\n",
      "cucumber sunomono salad does not exist in Sales! NO MATCH!\n",
      "hiyashi wakame seaweed salad does not exist in Sales! NO MATCH!\n",
      "agedashi tofu does not exist in Sales! NO MATCH!\n",
      "hiyayakko tofu does not exist in Sales! NO MATCH!\n",
      "pork floss bao does not exist in Sales! NO MATCH!\n",
      "kakuni bao does not exist in Sales! NO MATCH!\n",
      "edamame fried gyoza (vegan) does not exist in Sales! NO MATCH!\n",
      "fried gyoza does not exist in Sales! NO MATCH!\n",
      "takoyaki does not exist in Sales! NO MATCH!\n",
      "rock shrimp tempura does not exist in Sales! NO MATCH!\n",
      "soft-shell crab tempura does not exist in Sales! NO MATCH!\n",
      "ebi katsu shrimp bao does not exist in Sales! NO MATCH!\n",
      "green tea does not exist in Sales! NO MATCH!\n",
      "coke does not exist in Sales! NO MATCH!\n",
      "black sesame ice cream does not exist in Sales! NO MATCH!\n",
      "matcha ice cream does not exist in Sales! NO MATCH!\n",
      "mango mochi ice cream does not exist in Sales! NO MATCH!\n",
      "strawberry mochi ice cream does not exist in Sales! NO MATCH!\n",
      "black sesame creme brulee does not exist in Sales! NO MATCH!\n"
     ]
    },
    {
     "data": {
      "text/plain": [
       "<function TextIOWrapper.close()>"
      ]
     },
     "execution_count": 3,
     "metadata": {},
     "output_type": "execute_result"
    }
   ],
   "source": [
    "from pathlib import Path\n",
    "import csv\n",
    "import numpy as np\n",
    "import json\n",
    "\n",
    "## Read Menu data into list object\n",
    "menu_path = Path(\"./menu_data.csv\")\n",
    "menu = []\n",
    "with open(menu_path) as fm:\n",
    "    csv_reader = csv.reader(fm)\n",
    "    next(csv_reader)\n",
    "    for line in csv_reader: \n",
    "        menu.append(line)\n",
    "\n",
    "## Read Sales data into list object\n",
    "sales_path = Path(\"./sales_data.csv\")\n",
    "sales = []\n",
    "with open(sales_path) as fs:\n",
    "    csv_reader = csv.reader(fs)\n",
    "    next(csv_reader)\n",
    "    for line in csv_reader: \n",
    "        sales.append(line)\n",
    "\n",
    "## Create dictionary to load all items from Sales list with matrics asked in HW\n",
    "report = {}\n",
    "for row in sales:\n",
    "    quantity = int(row[3])\n",
    "    sales_item = row[4]\n",
    "    \n",
    "    if sales_item in report: \n",
    "        pass\n",
    "    else: \n",
    "        report[sales_item] = {\"01-count\": 0,\"02-revenue\": 0,\"03-cogs\": 0,\"04-profit\": 0,}\n",
    "\n",
    "## Loop through Menu items and Sales Data to update metrics in report dictionary\n",
    "for menu_item in menu: \n",
    "    item = menu_item[0]\n",
    "    price = float(menu_item[3])\n",
    "    cost = float(menu_item[4])\n",
    "    profit = price - cost\n",
    "\n",
    "    if item in report:\n",
    "        for row in sales:\n",
    "            quantity = int(row[3])\n",
    "            sales_item = row[4]\n",
    "            \n",
    "            if sales_item == item: \n",
    "                report[sales_item][\"01-count\"] += quantity\n",
    "                report[sales_item][\"02-revenue\"] += price * quantity\n",
    "                report[sales_item][\"03-cogs\"] += cost * quantity\n",
    "                report[sales_item][\"04-profit\"] += profit * quantity\n",
    "    else:\n",
    "        print(f'{item} does not exist in Sales! NO MATCH!')\n",
    "        # continue\n",
    "\n",
    "# print(report)\n",
    "with open('pyramen.txt', 'w') as file:\n",
    "    for key, value in report.items():\n",
    "        file.write('{0}, {1}\\n'.format(key, value))\n",
    "\n",
    "file.close"
   ]
  }
 ],
 "metadata": {
  "kernelspec": {
   "display_name": "Python 3",
   "language": "python",
   "name": "python3"
  },
  "language_info": {
   "codemirror_mode": {
    "name": "ipython",
    "version": 3
   },
   "file_extension": ".py",
   "mimetype": "text/x-python",
   "name": "python",
   "nbconvert_exporter": "python",
   "pygments_lexer": "ipython3",
   "version": "3.6.12"
  }
 },
 "nbformat": 4,
 "nbformat_minor": 4
}
