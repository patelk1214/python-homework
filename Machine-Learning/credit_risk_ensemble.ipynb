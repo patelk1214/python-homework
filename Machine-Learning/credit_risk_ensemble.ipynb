{
 "cells": [
  {
   "cell_type": "markdown",
   "metadata": {},
   "source": [
    "# Ensemble Learning\n",
    "\n",
    "## Initial Imports"
   ]
  },
  {
   "cell_type": "code",
   "execution_count": 39,
   "metadata": {},
   "outputs": [],
   "source": [
    "import warnings\n",
    "warnings.filterwarnings('ignore')"
   ]
  },
  {
   "cell_type": "code",
   "execution_count": 40,
   "metadata": {},
   "outputs": [],
   "source": [
    "import numpy as np\n",
    "import pandas as pd\n",
    "from pathlib import Path\n",
    "from collections import Counter\n",
    "from sklearn.model_selection import train_test_split"
   ]
  },
  {
   "cell_type": "code",
   "execution_count": 120,
   "metadata": {},
   "outputs": [],
   "source": [
    "from sklearn.metrics import balanced_accuracy_score, accuracy_score, classification_report\n",
    "from sklearn.metrics import confusion_matrix\n",
    "from imblearn.metrics import classification_report_imbalanced"
   ]
  },
  {
   "cell_type": "markdown",
   "metadata": {},
   "source": [
    "## Read the CSV and Perform Basic Data Cleaning"
   ]
  },
  {
   "cell_type": "code",
   "execution_count": 50,
   "metadata": {},
   "outputs": [
    {
     "data": {
      "text/plain": [
       "array(['RENT', 'MORTGAGE', 'OWN', 'ANY'], dtype=object)"
      ]
     },
     "execution_count": 50,
     "metadata": {},
     "output_type": "execute_result"
    }
   ],
   "source": [
    "# Load the data\n",
    "file_path = Path('Resources/LoanStats_2019Q1.csv')\n",
    "df = pd.read_csv(file_path)\n",
    "\n",
    "# Preview the data\n",
    "df.head()"
   ]
  },
  {
   "cell_type": "markdown",
   "metadata": {},
   "source": [
    "## Split the Data into Training and Testing"
   ]
  },
  {
   "cell_type": "code",
   "execution_count": 43,
   "metadata": {},
   "outputs": [
    {
     "data": {
      "text/plain": [
       "0    low_risk\n",
       "1    low_risk\n",
       "2    low_risk\n",
       "3    low_risk\n",
       "4    low_risk\n",
       "Name: loan_status, dtype: object"
      ]
     },
     "execution_count": 43,
     "metadata": {},
     "output_type": "execute_result"
    }
   ],
   "source": [
    "# Create our features\n",
    "X =df.copy()\n",
    "X.drop(\"loan_status\", axis=1, inplace=True)\n",
    "X.head()\n",
    "# Create our target\n",
    "y = df[\"loan_status\"]\n",
    "y[:5]"
   ]
  },
  {
   "cell_type": "code",
   "execution_count": 59,
   "metadata": {},
   "outputs": [
    {
     "name": "stdout",
     "output_type": "stream",
     "text": [
      "<class 'pandas.core.frame.DataFrame'>\n",
      "RangeIndex: 68817 entries, 0 to 68816\n",
      "Data columns (total 85 columns):\n",
      " #   Column                      Non-Null Count  Dtype  \n",
      "---  ------                      --------------  -----  \n",
      " 0   loan_amnt                   68817 non-null  float64\n",
      " 1   int_rate                    68817 non-null  float64\n",
      " 2   installment                 68817 non-null  float64\n",
      " 3   home_ownership              68817 non-null  int64  \n",
      " 4   annual_inc                  68817 non-null  float64\n",
      " 5   verification_status         68817 non-null  object \n",
      " 6   issue_d                     68817 non-null  object \n",
      " 7   pymnt_plan                  68817 non-null  object \n",
      " 8   dti                         68817 non-null  float64\n",
      " 9   delinq_2yrs                 68817 non-null  float64\n",
      " 10  inq_last_6mths              68817 non-null  float64\n",
      " 11  open_acc                    68817 non-null  float64\n",
      " 12  pub_rec                     68817 non-null  float64\n",
      " 13  revol_bal                   68817 non-null  float64\n",
      " 14  total_acc                   68817 non-null  float64\n",
      " 15  initial_list_status         68817 non-null  object \n",
      " 16  out_prncp                   68817 non-null  float64\n",
      " 17  out_prncp_inv               68817 non-null  float64\n",
      " 18  total_pymnt                 68817 non-null  float64\n",
      " 19  total_pymnt_inv             68817 non-null  float64\n",
      " 20  total_rec_prncp             68817 non-null  float64\n",
      " 21  total_rec_int               68817 non-null  float64\n",
      " 22  total_rec_late_fee          68817 non-null  float64\n",
      " 23  recoveries                  68817 non-null  float64\n",
      " 24  collection_recovery_fee     68817 non-null  float64\n",
      " 25  last_pymnt_amnt             68817 non-null  float64\n",
      " 26  next_pymnt_d                68817 non-null  object \n",
      " 27  collections_12_mths_ex_med  68817 non-null  float64\n",
      " 28  policy_code                 68817 non-null  float64\n",
      " 29  application_type            68817 non-null  object \n",
      " 30  acc_now_delinq              68817 non-null  float64\n",
      " 31  tot_coll_amt                68817 non-null  float64\n",
      " 32  tot_cur_bal                 68817 non-null  float64\n",
      " 33  open_acc_6m                 68817 non-null  float64\n",
      " 34  open_act_il                 68817 non-null  float64\n",
      " 35  open_il_12m                 68817 non-null  float64\n",
      " 36  open_il_24m                 68817 non-null  float64\n",
      " 37  mths_since_rcnt_il          68817 non-null  float64\n",
      " 38  total_bal_il                68817 non-null  float64\n",
      " 39  il_util                     68817 non-null  float64\n",
      " 40  open_rv_12m                 68817 non-null  float64\n",
      " 41  open_rv_24m                 68817 non-null  float64\n",
      " 42  max_bal_bc                  68817 non-null  float64\n",
      " 43  all_util                    68817 non-null  float64\n",
      " 44  total_rev_hi_lim            68817 non-null  float64\n",
      " 45  inq_fi                      68817 non-null  float64\n",
      " 46  total_cu_tl                 68817 non-null  float64\n",
      " 47  inq_last_12m                68817 non-null  float64\n",
      " 48  acc_open_past_24mths        68817 non-null  float64\n",
      " 49  avg_cur_bal                 68817 non-null  float64\n",
      " 50  bc_open_to_buy              68817 non-null  float64\n",
      " 51  bc_util                     68817 non-null  float64\n",
      " 52  chargeoff_within_12_mths    68817 non-null  float64\n",
      " 53  delinq_amnt                 68817 non-null  float64\n",
      " 54  mo_sin_old_il_acct          68817 non-null  float64\n",
      " 55  mo_sin_old_rev_tl_op        68817 non-null  float64\n",
      " 56  mo_sin_rcnt_rev_tl_op       68817 non-null  float64\n",
      " 57  mo_sin_rcnt_tl              68817 non-null  float64\n",
      " 58  mort_acc                    68817 non-null  float64\n",
      " 59  mths_since_recent_bc        68817 non-null  float64\n",
      " 60  mths_since_recent_inq       68817 non-null  float64\n",
      " 61  num_accts_ever_120_pd       68817 non-null  float64\n",
      " 62  num_actv_bc_tl              68817 non-null  float64\n",
      " 63  num_actv_rev_tl             68817 non-null  float64\n",
      " 64  num_bc_sats                 68817 non-null  float64\n",
      " 65  num_bc_tl                   68817 non-null  float64\n",
      " 66  num_il_tl                   68817 non-null  float64\n",
      " 67  num_op_rev_tl               68817 non-null  float64\n",
      " 68  num_rev_accts               68817 non-null  float64\n",
      " 69  num_rev_tl_bal_gt_0         68817 non-null  float64\n",
      " 70  num_sats                    68817 non-null  float64\n",
      " 71  num_tl_120dpd_2m            68817 non-null  float64\n",
      " 72  num_tl_30dpd                68817 non-null  float64\n",
      " 73  num_tl_90g_dpd_24m          68817 non-null  float64\n",
      " 74  num_tl_op_past_12m          68817 non-null  float64\n",
      " 75  pct_tl_nvr_dlq              68817 non-null  float64\n",
      " 76  percent_bc_gt_75            68817 non-null  float64\n",
      " 77  pub_rec_bankruptcies        68817 non-null  float64\n",
      " 78  tax_liens                   68817 non-null  float64\n",
      " 79  tot_hi_cred_lim             68817 non-null  float64\n",
      " 80  total_bal_ex_mort           68817 non-null  float64\n",
      " 81  total_bc_limit              68817 non-null  float64\n",
      " 82  total_il_high_credit_limit  68817 non-null  float64\n",
      " 83  hardship_flag               68817 non-null  object \n",
      " 84  debt_settlement_flag        68817 non-null  object \n",
      "dtypes: float64(76), int64(1), object(8)\n",
      "memory usage: 44.6+ MB\n"
     ]
    }
   ],
   "source": [
    "X.info()"
   ]
  },
  {
   "cell_type": "code",
   "execution_count": 72,
   "metadata": {},
   "outputs": [
    {
     "data": {
      "text/html": [
       "<div>\n",
       "<style scoped>\n",
       "    .dataframe tbody tr th:only-of-type {\n",
       "        vertical-align: middle;\n",
       "    }\n",
       "\n",
       "    .dataframe tbody tr th {\n",
       "        vertical-align: top;\n",
       "    }\n",
       "\n",
       "    .dataframe thead th {\n",
       "        text-align: right;\n",
       "    }\n",
       "</style>\n",
       "<table border=\"1\" class=\"dataframe\">\n",
       "  <thead>\n",
       "    <tr style=\"text-align: right;\">\n",
       "      <th></th>\n",
       "      <th>loan_amnt</th>\n",
       "      <th>int_rate</th>\n",
       "      <th>installment</th>\n",
       "      <th>home_ownership</th>\n",
       "      <th>annual_inc</th>\n",
       "      <th>verification_status</th>\n",
       "      <th>issue_d</th>\n",
       "      <th>pymnt_plan</th>\n",
       "      <th>dti</th>\n",
       "      <th>delinq_2yrs</th>\n",
       "      <th>...</th>\n",
       "      <th>pct_tl_nvr_dlq</th>\n",
       "      <th>percent_bc_gt_75</th>\n",
       "      <th>pub_rec_bankruptcies</th>\n",
       "      <th>tax_liens</th>\n",
       "      <th>tot_hi_cred_lim</th>\n",
       "      <th>total_bal_ex_mort</th>\n",
       "      <th>total_bc_limit</th>\n",
       "      <th>total_il_high_credit_limit</th>\n",
       "      <th>hardship_flag</th>\n",
       "      <th>debt_settlement_flag</th>\n",
       "    </tr>\n",
       "  </thead>\n",
       "  <tbody>\n",
       "    <tr>\n",
       "      <th>0</th>\n",
       "      <td>10500.0</td>\n",
       "      <td>0.1719</td>\n",
       "      <td>375.35</td>\n",
       "      <td>3</td>\n",
       "      <td>66000.0</td>\n",
       "      <td>1</td>\n",
       "      <td>2</td>\n",
       "      <td>0</td>\n",
       "      <td>27.24</td>\n",
       "      <td>0.0</td>\n",
       "      <td>...</td>\n",
       "      <td>85.7</td>\n",
       "      <td>100.0</td>\n",
       "      <td>0.0</td>\n",
       "      <td>0.0</td>\n",
       "      <td>65687.0</td>\n",
       "      <td>38199.0</td>\n",
       "      <td>2000.0</td>\n",
       "      <td>61987.0</td>\n",
       "      <td>0</td>\n",
       "      <td>0</td>\n",
       "    </tr>\n",
       "    <tr>\n",
       "      <th>1</th>\n",
       "      <td>25000.0</td>\n",
       "      <td>0.2000</td>\n",
       "      <td>929.09</td>\n",
       "      <td>1</td>\n",
       "      <td>105000.0</td>\n",
       "      <td>2</td>\n",
       "      <td>2</td>\n",
       "      <td>0</td>\n",
       "      <td>20.23</td>\n",
       "      <td>0.0</td>\n",
       "      <td>...</td>\n",
       "      <td>91.2</td>\n",
       "      <td>50.0</td>\n",
       "      <td>1.0</td>\n",
       "      <td>0.0</td>\n",
       "      <td>271427.0</td>\n",
       "      <td>60641.0</td>\n",
       "      <td>41200.0</td>\n",
       "      <td>49197.0</td>\n",
       "      <td>0</td>\n",
       "      <td>0</td>\n",
       "    </tr>\n",
       "    <tr>\n",
       "      <th>2</th>\n",
       "      <td>20000.0</td>\n",
       "      <td>0.2000</td>\n",
       "      <td>529.88</td>\n",
       "      <td>1</td>\n",
       "      <td>56000.0</td>\n",
       "      <td>2</td>\n",
       "      <td>2</td>\n",
       "      <td>0</td>\n",
       "      <td>24.26</td>\n",
       "      <td>0.0</td>\n",
       "      <td>...</td>\n",
       "      <td>66.7</td>\n",
       "      <td>50.0</td>\n",
       "      <td>0.0</td>\n",
       "      <td>0.0</td>\n",
       "      <td>60644.0</td>\n",
       "      <td>45684.0</td>\n",
       "      <td>7500.0</td>\n",
       "      <td>43144.0</td>\n",
       "      <td>0</td>\n",
       "      <td>0</td>\n",
       "    </tr>\n",
       "    <tr>\n",
       "      <th>3</th>\n",
       "      <td>10000.0</td>\n",
       "      <td>0.1640</td>\n",
       "      <td>353.55</td>\n",
       "      <td>3</td>\n",
       "      <td>92000.0</td>\n",
       "      <td>2</td>\n",
       "      <td>2</td>\n",
       "      <td>0</td>\n",
       "      <td>31.44</td>\n",
       "      <td>0.0</td>\n",
       "      <td>...</td>\n",
       "      <td>100.0</td>\n",
       "      <td>50.0</td>\n",
       "      <td>1.0</td>\n",
       "      <td>0.0</td>\n",
       "      <td>99506.0</td>\n",
       "      <td>68784.0</td>\n",
       "      <td>19700.0</td>\n",
       "      <td>76506.0</td>\n",
       "      <td>0</td>\n",
       "      <td>0</td>\n",
       "    </tr>\n",
       "    <tr>\n",
       "      <th>4</th>\n",
       "      <td>22000.0</td>\n",
       "      <td>0.1474</td>\n",
       "      <td>520.39</td>\n",
       "      <td>1</td>\n",
       "      <td>52000.0</td>\n",
       "      <td>0</td>\n",
       "      <td>2</td>\n",
       "      <td>0</td>\n",
       "      <td>18.76</td>\n",
       "      <td>0.0</td>\n",
       "      <td>...</td>\n",
       "      <td>100.0</td>\n",
       "      <td>0.0</td>\n",
       "      <td>0.0</td>\n",
       "      <td>0.0</td>\n",
       "      <td>219750.0</td>\n",
       "      <td>25919.0</td>\n",
       "      <td>27600.0</td>\n",
       "      <td>20000.0</td>\n",
       "      <td>0</td>\n",
       "      <td>0</td>\n",
       "    </tr>\n",
       "  </tbody>\n",
       "</table>\n",
       "<p>5 rows × 85 columns</p>\n",
       "</div>"
      ],
      "text/plain": [
       "   loan_amnt  int_rate  installment  home_ownership  annual_inc  \\\n",
       "0    10500.0    0.1719       375.35               3     66000.0   \n",
       "1    25000.0    0.2000       929.09               1    105000.0   \n",
       "2    20000.0    0.2000       529.88               1     56000.0   \n",
       "3    10000.0    0.1640       353.55               3     92000.0   \n",
       "4    22000.0    0.1474       520.39               1     52000.0   \n",
       "\n",
       "   verification_status  issue_d  pymnt_plan    dti  delinq_2yrs  ...  \\\n",
       "0                    1        2           0  27.24          0.0  ...   \n",
       "1                    2        2           0  20.23          0.0  ...   \n",
       "2                    2        2           0  24.26          0.0  ...   \n",
       "3                    2        2           0  31.44          0.0  ...   \n",
       "4                    0        2           0  18.76          0.0  ...   \n",
       "\n",
       "   pct_tl_nvr_dlq  percent_bc_gt_75  pub_rec_bankruptcies  tax_liens  \\\n",
       "0            85.7             100.0                   0.0        0.0   \n",
       "1            91.2              50.0                   1.0        0.0   \n",
       "2            66.7              50.0                   0.0        0.0   \n",
       "3           100.0              50.0                   1.0        0.0   \n",
       "4           100.0               0.0                   0.0        0.0   \n",
       "\n",
       "   tot_hi_cred_lim  total_bal_ex_mort  total_bc_limit  \\\n",
       "0          65687.0            38199.0          2000.0   \n",
       "1         271427.0            60641.0         41200.0   \n",
       "2          60644.0            45684.0          7500.0   \n",
       "3          99506.0            68784.0         19700.0   \n",
       "4         219750.0            25919.0         27600.0   \n",
       "\n",
       "   total_il_high_credit_limit  hardship_flag  debt_settlement_flag  \n",
       "0                     61987.0              0                     0  \n",
       "1                     49197.0              0                     0  \n",
       "2                     43144.0              0                     0  \n",
       "3                     76506.0              0                     0  \n",
       "4                     20000.0              0                     0  \n",
       "\n",
       "[5 rows x 85 columns]"
      ]
     },
     "execution_count": 72,
     "metadata": {},
     "output_type": "execute_result"
    }
   ],
   "source": [
    "from sklearn.preprocessing import LabelEncoder\n",
    "# Create the LabelEncoder instance\n",
    "le = LabelEncoder()\n",
    "# Fitting and encoding the columns with the LabelEncoder\n",
    "# Folloiwing columns have type object (string)\n",
    "cols = ['home_ownership', 'application_type', 'verification_status', 'issue_d', 'pymnt_plan', 'initial_list_status', 'next_pymnt_d', 'next_pymnt_d', 'application_type', 'hardship_flag', 'debt_settlement_flag']\n",
    "\n",
    "for c in cols: \n",
    "    le.fit(X[c])\n",
    "    X[c] = le.transform(X[c])\n",
    "\n",
    "X.verification_status.unique()\n",
    "X.head()"
   ]
  },
  {
   "cell_type": "code",
   "execution_count": 80,
   "metadata": {},
   "outputs": [
    {
     "data": {
      "text/plain": [
       "low_risk     68470\n",
       "high_risk      347\n",
       "Name: loan_status, dtype: int64"
      ]
     },
     "execution_count": 80,
     "metadata": {},
     "output_type": "execute_result"
    }
   ],
   "source": [
    "# Check the balance of our target values\n",
    "y.value_counts()"
   ]
  },
  {
   "cell_type": "code",
   "execution_count": 76,
   "metadata": {},
   "outputs": [
    {
     "data": {
      "text/plain": [
       "Counter({'low_risk': 51357, 'high_risk': 255})"
      ]
     },
     "execution_count": 76,
     "metadata": {},
     "output_type": "execute_result"
    }
   ],
   "source": [
    "# Split the X and y into X_train, X_test, y_train, y_test\n",
    "X_train, X_test, y_train, y_test = train_test_split(X, y, random_state=78)\n",
    "Counter(y_train)"
   ]
  },
  {
   "cell_type": "markdown",
   "metadata": {},
   "source": [
    "## Data Pre-Processing\n",
    "\n",
    "Scale the training and testing data using the `StandardScaler` from `sklearn`. Remember that when scaling the data, you only scale the features data (`X_train` and `X_testing`)."
   ]
  },
  {
   "cell_type": "code",
   "execution_count": 77,
   "metadata": {},
   "outputs": [],
   "source": [
    "# Create the StandardScaler instance\n",
    "from sklearn.preprocessing import StandardScaler\n",
    "scaler = StandardScaler()"
   ]
  },
  {
   "cell_type": "code",
   "execution_count": 78,
   "metadata": {},
   "outputs": [],
   "source": [
    "# Fit the Standard Scaler with the training data\n",
    "# When fitting scaling functions, only train on the training dataset\n",
    "X_scaler = scaler.fit(X_train)"
   ]
  },
  {
   "cell_type": "code",
   "execution_count": 79,
   "metadata": {},
   "outputs": [],
   "source": [
    "# Scale the training and testing data\n",
    "X_train_scaled = X_scaler.transform(X_train)\n",
    "X_test_scaled = X_scaler.transform(X_test)"
   ]
  },
  {
   "cell_type": "markdown",
   "metadata": {},
   "source": [
    "## Ensemble Learners\n",
    "\n",
    "In this section, you will compare two ensemble algorithms to determine which algorithm results in the best performance. You will train a Balanced Random Forest Classifier and an Easy Ensemble classifier . For each algorithm, be sure to complete the folliowing steps:\n",
    "\n",
    "1. Train the model using the training data. \n",
    "2. Calculate the balanced accuracy score from sklearn.metrics.\n",
    "3. Display the confusion matrix from sklearn.metrics.\n",
    "4. Generate a classication report using the `imbalanced_classification_report` from imbalanced-learn.\n",
    "5. For the Balanced Random Forest Classifier only, print the feature importance sorted in descending order (most important feature to least important) along with the feature score\n",
    "\n",
    "Note: Use a random state of 1 for each algorithm to ensure consistency between tests"
   ]
  },
  {
   "cell_type": "markdown",
   "metadata": {},
   "source": [
    "### Balanced Random Forest Classifier"
   ]
  },
  {
   "cell_type": "code",
   "execution_count": 105,
   "metadata": {},
   "outputs": [
    {
     "data": {
      "text/plain": [
       "BalancedRandomForestClassifier(n_estimators=1000, random_state=1)"
      ]
     },
     "execution_count": 105,
     "metadata": {},
     "output_type": "execute_result"
    }
   ],
   "source": [
    "# Resample the training data with the BalancedRandomForestClassifier\n",
    "# Fit a Random Forest Classifier\n",
    "from imblearn.ensemble import BalancedRandomForestClassifier\n",
    "brf = BalancedRandomForestClassifier(n_estimators=1000, random_state=1)\n",
    "brf.fit(X_train_scaled, y_train)"
   ]
  },
  {
   "cell_type": "code",
   "execution_count": 114,
   "metadata": {},
   "outputs": [
    {
     "data": {
      "text/plain": [
       "0.7416167851036206"
      ]
     },
     "execution_count": 114,
     "metadata": {},
     "output_type": "execute_result"
    }
   ],
   "source": [
    "# Calculated the balanced accuracy score\n",
    "y_pred_brf = brf.predict(X_test_scaled)\n",
    "balanced_accuracy_score(y_test, y_pred_brf)\n"
   ]
  },
  {
   "cell_type": "code",
   "execution_count": 107,
   "metadata": {},
   "outputs": [
    {
     "data": {
      "text/plain": [
       "array([[   53,    39],\n",
       "       [ 1589, 15524]], dtype=int64)"
      ]
     },
     "execution_count": 107,
     "metadata": {},
     "output_type": "execute_result"
    }
   ],
   "source": [
    "# Display the confusion matrix\n",
    "confusion_matrix(y_test, y_pred_brf)"
   ]
  },
  {
   "cell_type": "code",
   "execution_count": 132,
   "metadata": {},
   "outputs": [
    {
     "name": "stdout",
     "output_type": "stream",
     "text": [
      "                   pre       rec       spe        f1       geo       iba       sup\n",
      "\n",
      "  high_risk       0.03      0.58      0.91      0.06      0.72      0.51        92\n",
      "   low_risk       1.00      0.91      0.58      0.95      0.72      0.54     17113\n",
      "\n",
      "avg / total       0.99      0.91      0.58      0.95      0.72      0.54     17205\n",
      "\n"
     ]
    }
   ],
   "source": [
    "# Print the imbalanced classification report\n",
    "print(classification_report_imbalanced(y_test, y_pred_brf))"
   ]
  },
  {
   "cell_type": "code",
   "execution_count": 109,
   "metadata": {},
   "outputs": [
    {
     "data": {
      "text/plain": [
       "<AxesSubplot:title={'center':'Features Importances'}, ylabel='1'>"
      ]
     },
     "execution_count": 109,
     "metadata": {},
     "output_type": "execute_result"
    },
    {
     "data": {
      "image/png": "[encoded data removed]",
      "text/plain": [
       "<Figure size 432x288 with 1 Axes>"
      ]
     },
     "metadata": {
      "needs_background": "light"
     },
     "output_type": "display_data"
    }
   ],
   "source": [
    "# List the features sorted in descending order by feature importance\n",
    "importances = brf.feature_importances_\n",
    "\n",
    "# sorted(zip(brf.feature_importances_, X.columns), reverse=True)\n",
    "\n",
    "importances_df = pd.DataFrame(sorted(zip(brf.feature_importances_, X.columns), reverse=True))\n",
    "importances_df.set_index(importances_df[1], inplace=True)\n",
    "importances_df.drop(columns=1, inplace=True)\n",
    "importances_df.rename(columns={0: 'Feature Importances'}, inplace=True)\n",
    "importances_sorted = importances_df.sort_values(by='Feature Importances')\n",
    "importances_sorted.tail(20).plot(kind='barh', color='lightgreen', title= 'Features Importances', legend=False)"
   ]
  },
  {
   "cell_type": "markdown",
   "metadata": {},
   "source": [
    "### Easy Ensemble Classifier"
   ]
  },
  {
   "cell_type": "code",
   "execution_count": 134,
   "metadata": {},
   "outputs": [
    {
     "name": "stdout",
     "output_type": "stream",
     "text": [
      "Learning rate:  0.05\n",
      "Accuracy score (training): 0.999\n",
      "Accuracy score (validation): 0.995\n",
      "\n",
      "Learning rate:  0.1\n",
      "Accuracy score (training): 0.526\n",
      "Accuracy score (validation): 0.530\n",
      "\n",
      "Learning rate:  0.25\n",
      "Accuracy score (training): 0.598\n",
      "Accuracy score (validation): 0.601\n",
      "\n",
      "Learning rate:  0.5\n",
      "Accuracy score (training): 0.985\n",
      "Accuracy score (validation): 0.984\n",
      "\n",
      "Learning rate:  0.75\n",
      "Accuracy score (training): 0.994\n",
      "Accuracy score (validation): 0.993\n",
      "\n",
      "Learning rate:  1\n",
      "Accuracy score (training): 0.843\n",
      "Accuracy score (validation): 0.846\n",
      "\n"
     ]
    }
   ],
   "source": [
    "# Train the Classifier\n",
    "from sklearn.ensemble import GradientBoostingClassifier\n",
    "# Choose learning rate\n",
    "learning_rates = [0.05, 0.1, 0.25, 0.5, 0.75, 1]\n",
    "for learning_rate in learning_rates:\n",
    "    model = GradientBoostingClassifier(\n",
    "        n_estimators=1000,\n",
    "        learning_rate=learning_rate,\n",
    "        max_features=5,\n",
    "        max_depth=3,\n",
    "        random_state=1)\n",
    "    model.fit(X_train_scaled,y_train.ravel())\n",
    "    print(\"Learning rate: \", learning_rate)\n",
    "\n",
    "    # Score the model\n",
    "    print(\"Accuracy score (training): {0:.3f}\".format(\n",
    "        model.score(\n",
    "            X_train_scaled,\n",
    "            y_train.ravel())))\n",
    "    print(\"Accuracy score (validation): {0:.3f}\".format(\n",
    "        model.score(\n",
    "            X_test_scaled,\n",
    "            y_test.ravel())))\n",
    "    print()"
   ]
  },
  {
   "cell_type": "code",
   "execution_count": 135,
   "metadata": {},
   "outputs": [
    {
     "name": "stdout",
     "output_type": "stream",
     "text": [
      "Accuracy score (training): 0.999\n",
      "Accuracy score (validation): 0.995\n"
     ]
    }
   ],
   "source": [
    "# Create GradientBoostingClassifier model\n",
    "model = GradientBoostingClassifier(\n",
    "    n_estimators=1000,\n",
    "    learning_rate=0.05,\n",
    "    max_features=5,\n",
    "    max_depth=3,\n",
    "    random_state=1)\n",
    "\n",
    "# Fit the model\n",
    "model.fit(X_train_scaled,y_train.ravel())\n",
    "\n",
    "# Score the model\n",
    "print(\"Accuracy score (training): {0:.3f}\".format(\n",
    "    model.score(\n",
    "        X_train_scaled,\n",
    "        y_train)))\n",
    "print(\"Accuracy score (validation): {0:.3f}\".format(\n",
    "    model.score(\n",
    "        X_test_scaled,\n",
    "        y_test)))"
   ]
  },
  {
   "cell_type": "code",
   "execution_count": 136,
   "metadata": {},
   "outputs": [
    {
     "data": {
      "text/plain": [
       "0.9951758209822726"
      ]
     },
     "execution_count": 136,
     "metadata": {},
     "output_type": "execute_result"
    }
   ],
   "source": [
    "# Calculated the balanced accuracy score\n",
    "y_pred_gb = model.predict(X_test_scaled)\n",
    "accuracy_score(y_test, y_pred_gb)"
   ]
  },
  {
   "cell_type": "code",
   "execution_count": 137,
   "metadata": {},
   "outputs": [
    {
     "data": {
      "text/html": [
       "<div>\n",
       "<style scoped>\n",
       "    .dataframe tbody tr th:only-of-type {\n",
       "        vertical-align: middle;\n",
       "    }\n",
       "\n",
       "    .dataframe tbody tr th {\n",
       "        vertical-align: top;\n",
       "    }\n",
       "\n",
       "    .dataframe thead th {\n",
       "        text-align: right;\n",
       "    }\n",
       "</style>\n",
       "<table border=\"1\" class=\"dataframe\">\n",
       "  <thead>\n",
       "    <tr style=\"text-align: right;\">\n",
       "      <th></th>\n",
       "      <th>Predicted 0</th>\n",
       "      <th>Predicted 1</th>\n",
       "    </tr>\n",
       "  </thead>\n",
       "  <tbody>\n",
       "    <tr>\n",
       "      <th>Actual 0</th>\n",
       "      <td>27</td>\n",
       "      <td>65</td>\n",
       "    </tr>\n",
       "    <tr>\n",
       "      <th>Actual 1</th>\n",
       "      <td>18</td>\n",
       "      <td>17095</td>\n",
       "    </tr>\n",
       "  </tbody>\n",
       "</table>\n",
       "</div>"
      ],
      "text/plain": [
       "          Predicted 0  Predicted 1\n",
       "Actual 0           27           65\n",
       "Actual 1           18        17095"
      ]
     },
     "execution_count": 137,
     "metadata": {},
     "output_type": "execute_result"
    }
   ],
   "source": [
    "# Display the confusion matrix\n",
    "cm = confusion_matrix(y_test, y_pred_gb)\n",
    "cm_df = pd.DataFrame(\n",
    "    cm, index=[\"Actual 0\", \"Actual 1\"], columns=[\"Predicted 0\", \"Predicted 1\"]\n",
    ")\n",
    "cm_df"
   ]
  },
  {
   "cell_type": "code",
   "execution_count": 142,
   "metadata": {},
   "outputs": [
    {
     "name": "stdout",
     "output_type": "stream",
     "text": [
      "Confusion Matrix\n"
     ]
    },
    {
     "data": {
      "text/html": [
       "<div>\n",
       "<style scoped>\n",
       "    .dataframe tbody tr th:only-of-type {\n",
       "        vertical-align: middle;\n",
       "    }\n",
       "\n",
       "    .dataframe tbody tr th {\n",
       "        vertical-align: top;\n",
       "    }\n",
       "\n",
       "    .dataframe thead th {\n",
       "        text-align: right;\n",
       "    }\n",
       "</style>\n",
       "<table border=\"1\" class=\"dataframe\">\n",
       "  <thead>\n",
       "    <tr style=\"text-align: right;\">\n",
       "      <th></th>\n",
       "      <th>Predicted 0</th>\n",
       "      <th>Predicted 1</th>\n",
       "    </tr>\n",
       "  </thead>\n",
       "  <tbody>\n",
       "    <tr>\n",
       "      <th>Actual 0</th>\n",
       "      <td>27</td>\n",
       "      <td>65</td>\n",
       "    </tr>\n",
       "    <tr>\n",
       "      <th>Actual 1</th>\n",
       "      <td>18</td>\n",
       "      <td>17095</td>\n",
       "    </tr>\n",
       "  </tbody>\n",
       "</table>\n",
       "</div>"
      ],
      "text/plain": [
       "          Predicted 0  Predicted 1\n",
       "Actual 0           27           65\n",
       "Actual 1           18        17095"
      ]
     },
     "metadata": {},
     "output_type": "display_data"
    },
    {
     "name": "stdout",
     "output_type": "stream",
     "text": [
      "Accuracy Score : 0.995059575704737\n",
      "Classification Report\n",
      "              precision    recall  f1-score   support\n",
      "\n",
      "   high_risk       0.60      0.29      0.39        92\n",
      "    low_risk       1.00      1.00      1.00     17113\n",
      "\n",
      "    accuracy                           1.00     17205\n",
      "   macro avg       0.80      0.65      0.70     17205\n",
      "weighted avg       0.99      1.00      0.99     17205\n",
      "\n"
     ]
    },
    {
     "data": {
      "text/plain": [
       "'                   pre       rec       spe        f1       geo       iba       sup\\n\\n  high_risk       0.60      0.29      1.00      0.39      0.54      0.27        92\\n   low_risk       1.00      1.00      0.29      1.00      0.54      0.31     17113\\n\\navg / total       0.99      1.00      0.30      0.99      0.54      0.31     17205\\n'"
      ]
     },
     "execution_count": 142,
     "metadata": {},
     "output_type": "execute_result"
    }
   ],
   "source": [
    "# Print the classification report\n",
    "# Displaying results\n",
    "print(\"Confusion Matrix\")\n",
    "display(cm_df)\n",
    "print(f\"Accuracy Score : {acc_score}\")\n",
    "print(\"Classification Report\")\n",
    "print(classification_report(y_test, y_pred_gb))\n"
   ]
  },
  {
   "cell_type": "code",
   "execution_count": 139,
   "metadata": {},
   "outputs": [],
   "source": [
    "importances_rf = rf_model.feature_importances_\n"
   ]
  },
  {
   "cell_type": "code",
   "execution_count": 141,
   "metadata": {},
   "outputs": [
    {
     "data": {
      "text/plain": [
       "<AxesSubplot:title={'center':'Features Importances'}, ylabel='1'>"
      ]
     },
     "execution_count": 141,
     "metadata": {},
     "output_type": "execute_result"
    },
    {
     "data": {
      "image/png": "[encoded data removed]",
      "text/plain": [
       "<Figure size 432x288 with 1 Axes>"
      ]
     },
     "metadata": {
      "needs_background": "light"
     },
     "output_type": "display_data"
    }
   ],
   "source": [
    "importances_gb_df = pd.DataFrame(sorted(zip(rf_model.feature_importances_, X.columns), reverse=True))\n",
    "importances_gb_df.set_index(importances_gb_df[1], inplace=True)\n",
    "importances_gb_df.drop(columns=1, inplace=True)\n",
    "importances_gb_df.rename(columns={0: 'Feature Importances'}, inplace=True)\n",
    "importances_gb_df = importances_gb_df.sort_values(by='Feature Importances')\n",
    "importances_gb_df.tail(20).plot(kind='barh', color='lightgreen', title= 'Features Importances', legend=False)"
   ]
  },
  {
   "cell_type": "markdown",
   "metadata": {},
   "source": [
    "### Final Questions\n",
    "\n",
    "1. Which model had the best balanced accuracy score?\n",
    "\n",
    "    Easy Ensamble GradientBoostingClassifier model showed the best accuracy score.\n",
    "\n",
    "2. Which model had the best recall score?\n",
    "\n",
    "    Easy Ensamble GradientBoostingClassifier model showed the best recall score.\n",
    "\n",
    "3. Which model had the best geometric mean score?\n",
    "\n",
    "    For GradientBoostingClassifier classification report does not show Geometric mean score for comparison.\n",
    "\n",
    "4. What are the top three features?\n",
    "\n",
    "    Top thrtee features ar \n",
    "    1. Last Payment Amount\n",
    "    2. Total Received Interest\n",
    "    3. Total Payment Inv"
   ]
  },
  {
   "cell_type": "code",
   "execution_count": null,
   "metadata": {},
   "outputs": [],
   "source": []
  }
 ],
 "metadata": {
  "kernelspec": {
   "display_name": "Python 3",
   "language": "python",
   "name": "python3"
  },
  "language_info": {
   "codemirror_mode": {
    "name": "ipython",
    "version": 3
   },
   "file_extension": ".py",
   "mimetype": "text/x-python",
   "name": "python",
   "nbconvert_exporter": "python",
   "pygments_lexer": "ipython3",
   "version": "3.7.10"
  }
 },
 "nbformat": 4,
 "nbformat_minor": 4
}
