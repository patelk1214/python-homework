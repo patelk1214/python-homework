{
 "cells": [
  {
   "cell_type": "code",
   "execution_count": 1,
   "id": "9c1ecc11-78e2-4a88-85b4-6d01c988feb0",
   "metadata": {},
   "outputs": [],
   "source": [
    "# Import dependencies\n",
    "import subprocess\n",
    "import json\n",
    "from decimal import Decimal\n",
    "from dotenv import load_dotenv\n",
    "import os\n",
    "import bit\n",
    "from bit import wif_to_key\n",
    "from web3 import Web3\n",
    "from web3.middleware import geth_poa_middleware\n",
    "from eth_account import Account\n",
    "\n",
    "import warnings\n",
    "warnings.filterwarnings(\"ignore\")"
   ]
  },
  {
   "cell_type": "code",
   "execution_count": 2,
   "id": "9855ea7b-e034-4c75-86e9-c7d2fdaabb7b",
   "metadata": {},
   "outputs": [],
   "source": [
    "# Load and set environment variables\n",
    "load_dotenv(\"api_keys.env\")\n",
    "mnemonic=os.getenv(\"mnemonic\")\n",
    "\n",
    "# Import constants.py and necessary functions from bit and web3\n",
    "from constants import *"
   ]
  },
  {
   "cell_type": "code",
   "execution_count": 3,
   "id": "bfd1d176-7657-449d-b193-b8ccafe836d2",
   "metadata": {},
   "outputs": [],
   "source": [
    "w3 = Web3(Web3.HTTPProvider(\"http://127.0.0.1:8545\"))\n",
    "w3.middleware_onion.inject(geth_poa_middleware, layer=0)"
   ]
  },
  {
   "cell_type": "code",
   "execution_count": 4,
   "id": "f4e282fd-f2e4-424a-8c57-19676d71c84a",
   "metadata": {},
   "outputs": [],
   "source": [
    "# Create a function called `derive_wallets`\n",
    "def derive_wallets(coin, mnemonic, numderive, cols=\"address,index,path,privkey,pubkey\"):\n",
    "    \n",
    "    command = f'php ./derive -g --mnemonic=\"{mnemonic}\" --cols={cols} --coin={coin} --numderive={numderive} --format=json'\n",
    "    p = subprocess.Popen(command, stdout=subprocess.PIPE, shell=True)\n",
    "    output, err = p.communicate()\n",
    "    p_status = p.wait()\n",
    "    return json.loads(output)\n"
   ]
  },
  {
   "cell_type": "code",
   "execution_count": 5,
   "id": "d29a1ef1-40ec-4586-a3d0-d83dd170de36",
   "metadata": {},
   "outputs": [],
   "source": [
    "# Create a dictionary object called coins to store the output from `derive_wallets`.\n",
    "coins = {ETH: derive_wallets(coin=ETH, mnemonic=mnemonic, numderive=3),\n",
    "         BTCTEST: derive_wallets(coin=BTCTEST, mnemonic=mnemonic, numderive=3)}\n"
   ]
  },
  {
   "cell_type": "code",
   "execution_count": 6,
   "id": "bcc60ce0-29f5-4206-8fa2-322e11da216a",
   "metadata": {},
   "outputs": [
    {
     "data": {
      "text/plain": [
       "{'eth': [{'address': '0x58169c81988C600E43704996C2A4d7120279f871',\n",
       "   'index': 0,\n",
       "   'path': \"m/44'/60'/0'/0/0\",\n",
       "   'privkey': '0x1d677bd8f9aaed01d7ab34d6022644deb6a2ac7bd57720dd551f2900111c80af',\n",
       "   'pubkey': '02118027358866125a3c322dbbc2aaba06b4fe30801e80df5d18c0812dbdc49b4f'},\n",
       "  {'address': '0x1c11333Bacfed70822065a89E2963cF4a91210CA',\n",
       "   'index': 1,\n",
       "   'path': \"m/44'/60'/0'/0/1\",\n",
       "   'privkey': '0x96141387527f78283faf922fc708645a2abdcaaddbb0dd9781f5100c7f5b89b5',\n",
       "   'pubkey': '03c0651222fadce18f65dc3f26d0744bfc2c888e08a36de0fc1cacb228d87aecc6'},\n",
       "  {'address': '0xd27E78b05553fEBe4b0FC6D0B00F9e881053A24F',\n",
       "   'index': 2,\n",
       "   'path': \"m/44'/60'/0'/0/2\",\n",
       "   'privkey': '0xa713798b0f087b5e9a82d23a79cc60485e0dca9ac4b7744c480203347d90bc79',\n",
       "   'pubkey': '03f37cf90aca0d336ba9379fde682b9db62e124d05979578edc2cdce04eae55356'}],\n",
       " 'btc-test': [{'address': 'mvjENG8DFYv2XZtABL9Z7MmNnMjAiFmgxF',\n",
       "   'index': 0,\n",
       "   'path': \"m/44'/1'/0'/0/0\",\n",
       "   'privkey': 'cRxUfzDXKPumqv84ARFTopJsnhURAeaPdf14B2KPrk57XAUmYVMN',\n",
       "   'pubkey': '02c9a4b6abeb83b28c7dcc772fce8f735436df613b13f46385ecb684cc8a28ecbe'},\n",
       "  {'address': 'mzCcd2bM4Vu9Hd64JSXe4An1qr3A3yywiC',\n",
       "   'index': 1,\n",
       "   'path': \"m/44'/1'/0'/0/1\",\n",
       "   'privkey': 'cR8B9nPgCngmYGnyWpAdNrY73yGechJYARYY1gRP97hnDPqQdoE2',\n",
       "   'pubkey': '0323b4a4916f26ac949251186a786ae785ea7c6f25c2dcb370ad7b148b98351ebe'},\n",
       "  {'address': 'mpJsosYNuLJBNiNQYY6NtLt81uALpMq4rG',\n",
       "   'index': 2,\n",
       "   'path': \"m/44'/1'/0'/0/2\",\n",
       "   'privkey': 'cTrC2cyeQbvnJX8wT2KYiY6FKSZVmDwWWuLxE217ZYabQrAE9HAN',\n",
       "   'pubkey': '03218c4c56c65f10e8f455f3ff919ea07c93b6de991eff624373c3111b56a7a06a'}]}"
      ]
     },
     "execution_count": 6,
     "metadata": {},
     "output_type": "execute_result"
    }
   ],
   "source": [
    "coins"
   ]
  },
  {
   "cell_type": "code",
   "execution_count": 73,
   "id": "0c212fc8-1139-454f-92bb-b5a6391f926b",
   "metadata": {},
   "outputs": [
    {
     "data": {
      "text/plain": [
       "'cRxUfzDXKPumqv84ARFTopJsnhURAeaPdf14B2KPrk57XAUmYVMN'"
      ]
     },
     "execution_count": 73,
     "metadata": {},
     "output_type": "execute_result"
    }
   ],
   "source": [
    "coins['btc-test'][0]['privkey']"
   ]
  },
  {
   "cell_type": "code",
   "execution_count": 84,
   "id": "05fdd682-7589-4b6e-b865-e266ad550707",
   "metadata": {},
   "outputs": [],
   "source": [
    "# Create a function called `priv_key_to_account` that converts privkey strings to account objects.\n",
    "def priv_key_to_account(coin, priv_key):\n",
    "    #print(priv_key)\n",
    "    if coin.upper() == 'ETH':\n",
    "        account =  Account.from_key(priv_key)\n",
    "    elif coin.upper() == 'BTCTEST':\n",
    "        account = wif_to_key(priv_key)\n",
    "        print(account)\n",
    "        \n",
    "    return account\n",
    "# Create a function called `create_tx` that creates an unsigned transaction appropriate metadata.\n",
    "def create_tx(coin, account, recepient, amount):\n",
    "    ## Transform the amount from Ether to wei\n",
    "    \n",
    "    print(amount)\n",
    "    if coin == ETH: \n",
    "        ## estimating Gas fees\n",
    "        amount = w3.toWei(Decimal(amount), 'ether')\n",
    "        gasEstimate = w3.eth.estimateGas(\n",
    "            {\"from\": account.address, \"to\": recepient, \"value\": amount}\n",
    "        )\n",
    "        print(gasEstimate)\n",
    "\n",
    "        return {\n",
    "            \"from\": account.address,\n",
    "            \"to\": recepient,\n",
    "            \"value\": amount,\n",
    "            \"gasPrice\": w3.eth.gasPrice,\n",
    "            \"gas\": gasEstimate,\n",
    "            \"nonce\": w3.eth.getTransactionCount(account.address),\n",
    "            \"chainId\": 1943 # Add to the instructions\n",
    "        }\n",
    "    \n",
    "    elif coin.upper() == 'BTCTEST':\n",
    "        print(account.prepare_transaction(account.address, [(recepient, amount, BTC)]))\n",
    "        return account.prepare_transaction(account.address, [(recepient, amount, BTC)])\n",
    "\n",
    "# Create a function called `send_tx` that calls `create_tx`, signs and sends the transaction.\n",
    "def send_tx(coin, account, recepient, amount):\n",
    "    tx = create_tx(coin, account, recepient, amount)\n",
    "    print(tx)\n",
    "    if coin.upper() == 'ETH':\n",
    "        signed_tx = account.sign_transaction(tx)\n",
    "#         print(signed_tx)\n",
    "        result = w3.eth.sendRawTransaction(signed_tx.rawTransaction)\n",
    "        return result\n",
    "    elif coin.upper() == 'BTCTEST':\n",
    "        signed_tx = account.sign_transaction(tx)\n",
    "        result = bit.network.NetworkAPI.broadcast_tx_testnet(signed_tx)\n",
    "        return result\n",
    "    "
   ]
  },
  {
   "cell_type": "code",
   "execution_count": 106,
   "id": "dfad6c94-ec45-4400-85e6-16b185b2917f",
   "metadata": {},
   "outputs": [],
   "source": [
    "# Send BTC TEST transaction\n",
    "token = \"BTCTEST\"\n",
    "private_key = os.getenv(\"BTC_PRIVATE\")"
   ]
  },
  {
   "cell_type": "code",
   "execution_count": 107,
   "id": "7b19a7c8-4155-45bd-97d7-b3658535a2dd",
   "metadata": {},
   "outputs": [
    {
     "name": "stdout",
     "output_type": "stream",
     "text": [
      "<PrivateKeyTestnet: mvjENG8DFYv2XZtABL9Z7MmNnMjAiFmgxF>\n"
     ]
    },
    {
     "data": {
      "text/plain": [
       "'mvjENG8DFYv2XZtABL9Z7MmNnMjAiFmgxF'"
      ]
     },
     "execution_count": 107,
     "metadata": {},
     "output_type": "execute_result"
    }
   ],
   "source": [
    "sender = priv_key_to_account(token, private_key)\n",
    "sender.address"
   ]
  },
  {
   "cell_type": "code",
   "execution_count": 71,
   "id": "f987980f-e83c-4b1a-9794-fc664719a9e4",
   "metadata": {},
   "outputs": [],
   "source": [
    "recipient = \"mzCcd2bM4Vu9Hd64JSXe4An1qr3A3yywiC\"\n",
    "amount = 0.0001"
   ]
  },
  {
   "cell_type": "code",
   "execution_count": 109,
   "id": "f6b85bf8-be29-4e8d-b582-16c3c583b68b",
   "metadata": {},
   "outputs": [
    {
     "name": "stdout",
     "output_type": "stream",
     "text": [
      "{\"unspents\":[{\"amount\":330828,\"confirmations\":0,\"script\":\"76a914a6dc4b83f621711508bc816a6b056cd7d04a763c88ac\",\"txid\":\"4872c5e7a25be05288b4dad485837eac9d3e8cde72daa8dc291a38e453edd09f\",\"txindex\":1,\"type\":\"p2pkh\",\"vsize\":148,\"segwit\":false,\"sequence\":4294967295}],\"outputs\":[[\"mzCcd2bM4Vu9Hd64JSXe4An1qr3A3yywiC\",10000],[\"mvjENG8DFYv2XZtABL9Z7MmNnMjAiFmgxF\",297776]]}\n"
     ]
    }
   ],
   "source": [
    "send_coin = send_tx(token, sender, recipient, amount)"
   ]
  },
  {
   "cell_type": "code",
   "execution_count": 75,
   "id": "0cbaede3-41fc-4b94-b447-e55ff4e25ba5",
   "metadata": {},
   "outputs": [
    {
     "data": {
      "text/plain": [
       "'0xe13fa0112ac680217eeb6207647f02418ce2638498d64fe166fe6d30e3672ef3'"
      ]
     },
     "execution_count": 75,
     "metadata": {},
     "output_type": "execute_result"
    }
   ],
   "source": [
    "# Send ETH transaction\n",
    "token = ETH\n",
    "private_key = os.getenv(\"ETH_PRIVATE\")\n",
    "private_key"
   ]
  },
  {
   "cell_type": "code",
   "execution_count": 77,
   "id": "d6f5a56a-243f-470b-bdbd-30b5f8a0bec1",
   "metadata": {},
   "outputs": [
    {
     "data": {
      "text/plain": [
       "'0xB2cEA57640F152E9d6542FB83FBc8B99e1F3C8f4'"
      ]
     },
     "execution_count": 77,
     "metadata": {},
     "output_type": "execute_result"
    }
   ],
   "source": [
    "sender = priv_key_to_account(token, private_key)\n",
    "sender.address"
   ]
  },
  {
   "cell_type": "code",
   "execution_count": 86,
   "id": "0b0efd99-25e3-4354-aba0-23dfff09ee3b",
   "metadata": {},
   "outputs": [],
   "source": [
    "recepient = Web3.toChecksumAddress(\"0x7fcdb18663b48d88e0e754424ca3dec907d53db8\")\n",
    "amount = 200"
   ]
  },
  {
   "cell_type": "code",
   "execution_count": 89,
   "id": "e805a276-6b8b-4195-bf18-bbc84425fde4",
   "metadata": {},
   "outputs": [
    {
     "name": "stdout",
     "output_type": "stream",
     "text": [
      "eth\n",
      "<eth_account.signers.local.LocalAccount object at 0x00000153A8859EC8>\n",
      "0x7FcDb18663b48D88e0E754424CA3deC907D53DB8\n",
      "200\n",
      "200000000000000000000\n",
      "21000\n",
      "{'from': '0xB2cEA57640F152E9d6542FB83FBc8B99e1F3C8f4', 'to': '0x7FcDb18663b48D88e0E754424CA3deC907D53DB8', 'value': 200000000000000000000, 'gasPrice': 1000000000, 'gas': 21000, 'nonce': 0, 'chainId': 1943}\n"
     ]
    },
    {
     "ename": "ValueError",
     "evalue": "{'code': -32000, 'message': 'replacement transaction underpriced'}",
     "output_type": "error",
     "traceback": [
      "\u001b[1;31m---------------------------------------------------------------------------\u001b[0m",
      "\u001b[1;31mValueError\u001b[0m                                Traceback (most recent call last)",
      "\u001b[1;32m<ipython-input-89-89413a1d216f>\u001b[0m in \u001b[0;36m<module>\u001b[1;34m\u001b[0m\n\u001b[1;32m----> 1\u001b[1;33m \u001b[0msend_coin\u001b[0m \u001b[1;33m=\u001b[0m \u001b[0msend_tx\u001b[0m\u001b[1;33m(\u001b[0m\u001b[0mtoken\u001b[0m\u001b[1;33m,\u001b[0m \u001b[0msender\u001b[0m\u001b[1;33m,\u001b[0m \u001b[0mrecepient\u001b[0m\u001b[1;33m,\u001b[0m \u001b[0mamount\u001b[0m\u001b[1;33m)\u001b[0m\u001b[1;33m\u001b[0m\u001b[1;33m\u001b[0m\u001b[0m\n\u001b[0m",
      "\u001b[1;32m<ipython-input-84-b1c96e930def>\u001b[0m in \u001b[0;36msend_tx\u001b[1;34m(coin, account, recepient, amount)\u001b[0m\n\u001b[0;32m     46\u001b[0m         \u001b[0msigned_tx\u001b[0m \u001b[1;33m=\u001b[0m \u001b[0maccount\u001b[0m\u001b[1;33m.\u001b[0m\u001b[0msign_transaction\u001b[0m\u001b[1;33m(\u001b[0m\u001b[0mtx\u001b[0m\u001b[1;33m)\u001b[0m\u001b[1;33m\u001b[0m\u001b[1;33m\u001b[0m\u001b[0m\n\u001b[0;32m     47\u001b[0m \u001b[1;31m#         print(signed_tx)\u001b[0m\u001b[1;33m\u001b[0m\u001b[1;33m\u001b[0m\u001b[1;33m\u001b[0m\u001b[0m\n\u001b[1;32m---> 48\u001b[1;33m         \u001b[0mresult\u001b[0m \u001b[1;33m=\u001b[0m \u001b[0mw3\u001b[0m\u001b[1;33m.\u001b[0m\u001b[0meth\u001b[0m\u001b[1;33m.\u001b[0m\u001b[0msendRawTransaction\u001b[0m\u001b[1;33m(\u001b[0m\u001b[0msigned_tx\u001b[0m\u001b[1;33m.\u001b[0m\u001b[0mrawTransaction\u001b[0m\u001b[1;33m)\u001b[0m\u001b[1;33m\u001b[0m\u001b[1;33m\u001b[0m\u001b[0m\n\u001b[0m\u001b[0;32m     49\u001b[0m         \u001b[1;32mreturn\u001b[0m \u001b[0mresult\u001b[0m\u001b[1;33m\u001b[0m\u001b[1;33m\u001b[0m\u001b[0m\n\u001b[0;32m     50\u001b[0m     \u001b[1;32melif\u001b[0m \u001b[0mcoin\u001b[0m\u001b[1;33m.\u001b[0m\u001b[0mupper\u001b[0m\u001b[1;33m(\u001b[0m\u001b[1;33m)\u001b[0m \u001b[1;33m==\u001b[0m \u001b[1;34m'BTCTEST'\u001b[0m\u001b[1;33m:\u001b[0m\u001b[1;33m\u001b[0m\u001b[1;33m\u001b[0m\u001b[0m\n",
      "\u001b[1;32m~\\anaconda3\\envs\\ethereum\\lib\\site-packages\\web3\\module.py\u001b[0m in \u001b[0;36mcaller\u001b[1;34m(*args, **kwargs)\u001b[0m\n\u001b[0;32m     56\u001b[0m             \u001b[1;32mreturn\u001b[0m \u001b[0mLogFilter\u001b[0m\u001b[1;33m(\u001b[0m\u001b[0meth_module\u001b[0m\u001b[1;33m=\u001b[0m\u001b[0mmodule\u001b[0m\u001b[1;33m,\u001b[0m \u001b[0mfilter_id\u001b[0m\u001b[1;33m=\u001b[0m\u001b[0merr\u001b[0m\u001b[1;33m.\u001b[0m\u001b[0mfilter_id\u001b[0m\u001b[1;33m)\u001b[0m\u001b[1;33m\u001b[0m\u001b[1;33m\u001b[0m\u001b[0m\n\u001b[0;32m     57\u001b[0m         \u001b[0mresult_formatters\u001b[0m\u001b[1;33m,\u001b[0m \u001b[0merror_formatters\u001b[0m \u001b[1;33m=\u001b[0m \u001b[0mresponse_formatters\u001b[0m\u001b[1;33m\u001b[0m\u001b[1;33m\u001b[0m\u001b[0m\n\u001b[1;32m---> 58\u001b[1;33m         \u001b[0mresult\u001b[0m \u001b[1;33m=\u001b[0m \u001b[0mw3\u001b[0m\u001b[1;33m.\u001b[0m\u001b[0mmanager\u001b[0m\u001b[1;33m.\u001b[0m\u001b[0mrequest_blocking\u001b[0m\u001b[1;33m(\u001b[0m\u001b[0mmethod_str\u001b[0m\u001b[1;33m,\u001b[0m \u001b[0mparams\u001b[0m\u001b[1;33m,\u001b[0m \u001b[0merror_formatters\u001b[0m\u001b[1;33m)\u001b[0m\u001b[1;33m\u001b[0m\u001b[1;33m\u001b[0m\u001b[0m\n\u001b[0m\u001b[0;32m     59\u001b[0m         \u001b[1;32mreturn\u001b[0m \u001b[0mapply_result_formatters\u001b[0m\u001b[1;33m(\u001b[0m\u001b[0mresult_formatters\u001b[0m\u001b[1;33m,\u001b[0m \u001b[0mresult\u001b[0m\u001b[1;33m)\u001b[0m\u001b[1;33m\u001b[0m\u001b[1;33m\u001b[0m\u001b[0m\n\u001b[0;32m     60\u001b[0m     \u001b[1;32mreturn\u001b[0m \u001b[0mcaller\u001b[0m\u001b[1;33m\u001b[0m\u001b[1;33m\u001b[0m\u001b[0m\n",
      "\u001b[1;32m~\\anaconda3\\envs\\ethereum\\lib\\site-packages\\web3\\manager.py\u001b[0m in \u001b[0;36mrequest_blocking\u001b[1;34m(self, method, params, error_formatters)\u001b[0m\n\u001b[0;32m    156\u001b[0m         \u001b[1;32mif\u001b[0m \u001b[1;34m\"error\"\u001b[0m \u001b[1;32min\u001b[0m \u001b[0mresponse\u001b[0m\u001b[1;33m:\u001b[0m\u001b[1;33m\u001b[0m\u001b[1;33m\u001b[0m\u001b[0m\n\u001b[0;32m    157\u001b[0m             \u001b[0mapply_error_formatters\u001b[0m\u001b[1;33m(\u001b[0m\u001b[0merror_formatters\u001b[0m\u001b[1;33m,\u001b[0m \u001b[0mresponse\u001b[0m\u001b[1;33m)\u001b[0m\u001b[1;33m\u001b[0m\u001b[1;33m\u001b[0m\u001b[0m\n\u001b[1;32m--> 158\u001b[1;33m             \u001b[1;32mraise\u001b[0m \u001b[0mValueError\u001b[0m\u001b[1;33m(\u001b[0m\u001b[0mresponse\u001b[0m\u001b[1;33m[\u001b[0m\u001b[1;34m\"error\"\u001b[0m\u001b[1;33m]\u001b[0m\u001b[1;33m)\u001b[0m\u001b[1;33m\u001b[0m\u001b[1;33m\u001b[0m\u001b[0m\n\u001b[0m\u001b[0;32m    159\u001b[0m         \u001b[1;32melif\u001b[0m \u001b[0mresponse\u001b[0m\u001b[1;33m[\u001b[0m\u001b[1;34m'result'\u001b[0m\u001b[1;33m]\u001b[0m \u001b[1;32mis\u001b[0m \u001b[1;32mNone\u001b[0m\u001b[1;33m:\u001b[0m\u001b[1;33m\u001b[0m\u001b[1;33m\u001b[0m\u001b[0m\n\u001b[0;32m    160\u001b[0m             \u001b[0mapply_error_formatters\u001b[0m\u001b[1;33m(\u001b[0m\u001b[0merror_formatters\u001b[0m\u001b[1;33m,\u001b[0m \u001b[0mresponse\u001b[0m\u001b[1;33m,\u001b[0m \u001b[0mparams\u001b[0m\u001b[1;33m)\u001b[0m\u001b[1;33m\u001b[0m\u001b[1;33m\u001b[0m\u001b[0m\n",
      "\u001b[1;31mValueError\u001b[0m: {'code': -32000, 'message': 'replacement transaction underpriced'}"
     ]
    }
   ],
   "source": [
    "send_coin = send_tx(token, sender, recepient, amount)"
   ]
  },
  {
   "cell_type": "code",
   "execution_count": 88,
   "id": "de797a08-e702-410b-b164-be4fa7b17ad2",
   "metadata": {},
   "outputs": [
    {
     "data": {
      "text/plain": [
       "HexBytes('0x74fc57fd10af85739a80f9dadf19c95421180302a7f54b1be4ad890e68871acd')"
      ]
     },
     "execution_count": 88,
     "metadata": {},
     "output_type": "execute_result"
    }
   ],
   "source": [
    "send_coin"
   ]
  }
 ],
 "metadata": {
  "kernelspec": {
   "display_name": "Python 3",
   "language": "python",
   "name": "python3"
  },
  "language_info": {
   "codemirror_mode": {
    "name": "ipython",
    "version": 3
   },
   "file_extension": ".py",
   "mimetype": "text/x-python",
   "name": "python",
   "nbconvert_exporter": "python",
   "pygments_lexer": "ipython3",
   "version": "3.7.10"
  }
 },
 "nbformat": 4,
 "nbformat_minor": 5
}
