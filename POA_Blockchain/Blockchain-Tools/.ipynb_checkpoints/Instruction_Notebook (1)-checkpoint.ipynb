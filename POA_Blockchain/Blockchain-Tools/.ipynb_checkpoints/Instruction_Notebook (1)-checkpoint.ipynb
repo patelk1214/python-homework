{
 "cells": [
  {
   "cell_type": "markdown",
   "id": "acceptable-syntax",
   "metadata": {},
   "source": [
    "## Check BTC Balances"
   ]
  },
  {
   "cell_type": "code",
   "execution_count": 5,
   "id": "valued-howard",
   "metadata": {},
   "outputs": [],
   "source": [
    "from bit import wif_to_key\n",
    "import os\n",
    "from web3 import Web3\n",
    "from dotenv import load_dotenv"
   ]
  },
  {
   "cell_type": "code",
   "execution_count": 10,
   "id": "returning-detroit",
   "metadata": {},
   "outputs": [
    {
     "name": "stdout",
     "output_type": "stream",
     "text": [
      "cRxUfzDXKPumqv84ARFTopJsnhURAeaPdf14B2KPrk57XAUmYVMN\n"
     ]
    },
    {
     "data": {
      "text/plain": [
       "'0.0026516'"
      ]
     },
     "execution_count": 10,
     "metadata": {},
     "output_type": "execute_result"
    }
   ],
   "source": [
    "load_dotenv(\"example.env\")\n",
    "private_key = os.getenv(\"BTC_PRIVATE\")\n",
    "print(private_key)\n",
    "key = wif_to_key(private_key)\n",
    "key.get_balance(\"btc\")"
   ]
  },
  {
   "cell_type": "markdown",
   "id": "spread-techno",
   "metadata": {},
   "source": [
    "## Send multiple transactions"
   ]
  },
  {
   "cell_type": "code",
   "execution_count": 7,
   "id": "distant-poison",
   "metadata": {},
   "outputs": [
    {
     "name": "stdout",
     "output_type": "stream",
     "text": [
      "668e112f4c9ba22f7fcd47334d447558ca6d45d20acbffdba8a2f83200f4ad95\n"
     ]
    }
   ],
   "source": [
    "from bit import wif_to_key\n",
    "\n",
    "load_dotenv(\"api.env\")\n",
    "private_key = os.getenv(\"BTC_PRIVATE\")\n",
    "key = wif_to_key(private_key)\n",
    "\n",
    "# replace with student addresses\n",
    "addresses = [\"mvjENG8DFYv2XZtABL9Z7MmNnMjAiFmgxF\", \"mzCcd2bM4Vu9Hd64JSXe4An1qr3A3yywiC\", \"mpJsosYNuLJBNiNQYY6NtLt81uALpMq4rG\"]\n",
    "\n",
    "outputs = []\n",
    "\n",
    "for address in addresses:\n",
    "    outputs.append((address, 0.0001, \"btc\"))\n",
    "\n",
    "print(key.send(outputs, fee=10))"
   ]
  },
  {
   "cell_type": "markdown",
   "id": "lightweight-ambassador",
   "metadata": {},
   "source": [
    "## Extra functions"
   ]
  },
  {
   "cell_type": "code",
   "execution_count": 8,
   "id": "infinite-removal",
   "metadata": {},
   "outputs": [
    {
     "data": {
      "text/plain": [
       "'0.0026516'"
      ]
     },
     "execution_count": 8,
     "metadata": {},
     "output_type": "execute_result"
    }
   ],
   "source": [
    "from bit import wif_to_key\n",
    "\n",
    "load_dotenv(\"api.env\")\n",
    "private_key = os.getenv(\"BTC_PRIVATE\")\n",
    "key = wif_to_key(private_key)\n",
    "\n",
    "# Get balances\n",
    "key.get_balance(\"btc\")"
   ]
  },
  {
   "cell_type": "code",
   "execution_count": 10,
   "id": "meaning-flooring",
   "metadata": {},
   "outputs": [
    {
     "data": {
      "text/plain": [
       "'40.99'"
      ]
     },
     "execution_count": 10,
     "metadata": {},
     "output_type": "execute_result"
    }
   ],
   "source": [
    "# Convert balances\n",
    "key.balance_as(\"usd\")"
   ]
  },
  {
   "cell_type": "code",
   "execution_count": 11,
   "id": "reasonable-hanging",
   "metadata": {},
   "outputs": [
    {
     "data": {
      "text/plain": [
       "['5510d8e294c07bcf3560cb86d6e892c13708bdf30c5873c18f95f6b455407233',\n",
       " 'f5542ffb91654f1bc5402bdb1b82cdac3c87356d3abae3a66492e0e108973a4b',\n",
       " '02c34459439652af7936bddaf87aec27b758b0e80918aacc09568dc9474200b3',\n",
       " 'cda67a2b781784277cd647f1f5899d064e2ac6e97055ecb1a364e53c7d10ae06',\n",
       " '1e187b44de84f4af4bab365688f666a51cbb3a229a31394557ee8e355c2497b4',\n",
       " '7949bbc58aa697bb5448a09ea22174673fd96477a00a9ca1014bda679262521d',\n",
       " 'f25bc914f86f20b3295bded500e9a43be07d3de040a0962630e6af30cb3bd4d4',\n",
       " '7331c4361534dcf628df5232375592be491091f2a97a7f8b150db3e399b63b36',\n",
       " 'f3bf57f927b1f0cb1f84dd4d9fed9d07068e891009bc641a3b4295060f531ba2',\n",
       " 'ad14586871940e89308e61c0b35a14a53bc5f6985c7089cb86c205f018ad6425']"
      ]
     },
     "execution_count": 11,
     "metadata": {},
     "output_type": "execute_result"
    }
   ],
   "source": [
    "# Get transactions\n",
    "key.get_transactions()"
   ]
  },
  {
   "cell_type": "code",
   "execution_count": 12,
   "id": "driving-sessions",
   "metadata": {},
   "outputs": [
    {
     "data": {
      "text/plain": [
       "[Unspent(amount=73620, confirmations=0, script='76a914a6dc4b83f621711508bc816a6b056cd7d04a763c88ac', txid='5510d8e294c07bcf3560cb86d6e892c13708bdf30c5873c18f95f6b455407233', txindex=2, segwit=False, sequence=4294967295)]"
      ]
     },
     "execution_count": 12,
     "metadata": {},
     "output_type": "execute_result"
    }
   ],
   "source": [
    "# Get unspents\n",
    "key.get_unspents()"
   ]
  },
  {
   "cell_type": "code",
   "execution_count": null,
   "id": "modified-horror",
   "metadata": {},
   "outputs": [],
   "source": []
  }
 ],
 "metadata": {
  "kernelspec": {
   "display_name": "Python 3",
   "language": "python",
   "name": "python3"
  },
  "language_info": {
   "codemirror_mode": {
    "name": "ipython",
    "version": 3
   },
   "file_extension": ".py",
   "mimetype": "text/x-python",
   "name": "python",
   "nbconvert_exporter": "python",
   "pygments_lexer": "ipython3",
   "version": "3.7.10"
  }
 },
 "nbformat": 4,
 "nbformat_minor": 5
}
